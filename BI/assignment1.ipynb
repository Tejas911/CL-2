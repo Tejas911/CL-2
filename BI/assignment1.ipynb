{
 "cells": [
  {
   "cell_type": "markdown",
   "metadata": {},
   "source": [
    "Analyse a given DNA sequence and perform basic sequence manipulation, including finding \n",
    "motifs, calculating GC content, and identifying coding regions."
   ]
  },
  {
   "cell_type": "code",
   "execution_count": 2,
   "metadata": {},
   "outputs": [
    {
     "data": {
      "text/plain": [
       "'ATGCATCGATCGTACGATCGTAGCTAGCTAGCTAGCTAGCTAGCTAGCTAGCTAGCTAGCTAGCTAGCTAGCTAGCTAGCTAGCTAGCTAGCTAGCTAGCTAGCTAGCTAGCTAGCTAGCTAGCTAGCTAGCTAGCTAGCTAGCTAGCTAGCTAGCTAGCTAGCTAGCTAGCTAGCTAGCTAGCTAGCTAGCTAGCTAGCTAGCTAGCTAGCTAGCTAGCTAGCTAGCTAGCTAGCTAGCTAGCTAGCTAGCTAGCTAGCTAGCTAGCTAGCTAGCTAGCTAGCTAGCTAGCTAGCTAGCTAGCTAGCTAGCTAGCTAGCTAGCTAGCTAGCTAGCTAGCTAGCTAGCTAGCTAGCTAGCTAGCTAGCTAGCTAGCTAGCTAGCTAGCTAGCTAGCTAGCTAGCTAGCTAGCTAGCTAGCTAGCTAGCTAGCTAGCTAGCTAGCTAGCTA'"
      ]
     },
     "execution_count": 2,
     "metadata": {},
     "output_type": "execute_result"
    }
   ],
   "source": [
    "dna_seq = open(r\"C:\\Users\\Tejas\\OneDrive\\Desktop\\College\\CL 2\\BI\\BI dataets\\dna_sequence.txt\").read().strip()\n",
    "dna_seq"
   ]
  },
  {
   "cell_type": "markdown",
   "metadata": {},
   "source": [
    "A = Adenine\n",
    "T = Thymine\n",
    "C = Cytosine\n",
    "G = Guanine\n"
   ]
  },
  {
   "cell_type": "code",
   "execution_count": 3,
   "metadata": {},
   "outputs": [
    {
     "data": {
      "text/plain": [
       "49.77777777777778"
      ]
     },
     "execution_count": 3,
     "metadata": {},
     "output_type": "execute_result"
    }
   ],
   "source": [
    "# GC content\n",
    "count_g = dna_seq.count('G')\n",
    "count_c = dna_seq.count('C')\n",
    "\n",
    "GC_content = ((count_c+count_g)/len(dna_seq))*100\n",
    "\n",
    "GC_content"
   ]
  },
  {
   "cell_type": "code",
   "execution_count": null,
   "metadata": {},
   "outputs": [
    {
     "data": {
      "text/plain": [
       "[10, 18]"
      ]
     },
     "execution_count": 5,
     "metadata": {},
     "output_type": "execute_result"
    }
   ],
   "source": [
    "# Motif positions\n",
    "# A DNA motif is a short, recurring pattern in DNA that is believed to have a biological function.\n",
    "modif = \"CGT\"\n",
    "modif_positions = list()\n",
    "\n",
    "for i in range(0,len(dna_seq)):\n",
    "    if dna_seq[i:i+3] == modif:\n",
    "        modif_positions.append(i)\n",
    "\n",
    "modif_positions"
   ]
  },
  {
   "cell_type": "code",
   "execution_count": null,
   "metadata": {},
   "outputs": [
    {
     "data": {
      "text/plain": [
       "[[0, 20]]"
      ]
     },
     "execution_count": 7,
     "metadata": {},
     "output_type": "execute_result"
    }
   ],
   "source": [
    "# Identifying Coding Regions\n",
    "# The coding region of DNA, also known as the coding sequence, is the part of a gene's DNA that contains the instructions for making a protein\n",
    "start = \"ATG\"\n",
    "stop = [\"TAA\", \"TAG\", \"TGA\"]\n",
    "\n",
    "regions = []\n",
    "\n",
    "for i in range(len(dna_seq)):\n",
    "    pos = []\n",
    "    if dna_seq[i:i+3] == start:\n",
    "        pos.append(i)\n",
    "        for j in range(i+3,len(dna_seq)):\n",
    "            if dna_seq[j:j+3] in stop:\n",
    "                pos.append(j)\n",
    "                regions.append(pos)\n",
    "                break\n",
    "\n",
    "regions\n"
   ]
  },
  {
   "cell_type": "code",
   "execution_count": null,
   "metadata": {},
   "outputs": [],
   "source": []
  }
 ],
 "metadata": {
  "kernelspec": {
   "display_name": "Python 3",
   "language": "python",
   "name": "python3"
  },
  "language_info": {
   "codemirror_mode": {
    "name": "ipython",
    "version": 3
   },
   "file_extension": ".py",
   "mimetype": "text/x-python",
   "name": "python",
   "nbconvert_exporter": "python",
   "pygments_lexer": "ipython3",
   "version": "3.11.2"
  }
 },
 "nbformat": 4,
 "nbformat_minor": 2
}
