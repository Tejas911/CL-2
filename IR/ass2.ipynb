{
 "cells": [
  {
   "cell_type": "markdown",
   "metadata": {},
   "source": [
    "Implement a program for retrieval of documents using\n",
    "inverted files."
   ]
  },
  {
   "cell_type": "code",
   "execution_count": 1,
   "metadata": {},
   "outputs": [
    {
     "name": "stderr",
     "output_type": "stream",
     "text": [
      "c:\\Users\\Tejas\\AppData\\Local\\Programs\\Python\\Python311\\Lib\\site-packages\\numpy\\_distributor_init.py:30: UserWarning: loaded more than 1 DLL from .libs:\n",
      "c:\\Users\\Tejas\\AppData\\Local\\Programs\\Python\\Python311\\Lib\\site-packages\\numpy\\.libs\\libopenblas64__v0.3.21-gcc_10_3_0.dll\n",
      "c:\\Users\\Tejas\\AppData\\Local\\Programs\\Python\\Python311\\Lib\\site-packages\\numpy\\.libs\\libopenblas64__v0.3.23-246-g3d31191b-gcc_10_3_0.dll\n",
      "  warnings.warn(\"loaded more than 1 DLL from .libs:\"\n"
     ]
    }
   ],
   "source": [
    "import nltk"
   ]
  },
  {
   "cell_type": "code",
   "execution_count": 2,
   "metadata": {},
   "outputs": [
    {
     "data": {
      "text/plain": [
       "['tejas like cars', 'cars move fast', 'Supercars have good airodynamics ']"
      ]
     },
     "execution_count": 2,
     "metadata": {},
     "output_type": "execute_result"
    }
   ],
   "source": [
    "doc1 = \"tejas like cars\"\n",
    "doc2 = \"cars move fast\"\n",
    "doc3 = \"Supercars have good airodynamics \"\n",
    "docs = [doc1, doc2, doc3]\n",
    "docs"
   ]
  },
  {
   "cell_type": "code",
   "execution_count": 15,
   "metadata": {},
   "outputs": [
    {
     "data": {
      "text/plain": [
       "{'good': [2],\n",
       " 'Supercars': [2],\n",
       " 'fast': [1],\n",
       " 'airodynamics': [2],\n",
       " 'like': [0],\n",
       " 'cars': [0, 1, 2],\n",
       " 'tejas': [0],\n",
       " 'have': [2],\n",
       " 'move': [1]}"
      ]
     },
     "execution_count": 15,
     "metadata": {},
     "output_type": "execute_result"
    }
   ],
   "source": [
    "def invert_index(docs):\n",
    "    words = []\n",
    "    for doc in docs:\n",
    "        for word in nltk.tokenize.word_tokenize(doc):\n",
    "            words.append(word)\n",
    "\n",
    "    words = list(set(words))\n",
    "    index = {}\n",
    "    for word in words:\n",
    "        index[word] = []\n",
    "\n",
    "    for word in words:\n",
    "        for i in range(len(docs)):\n",
    "            if word in docs[i]:\n",
    "                index[word].append(i)\n",
    "\n",
    "\n",
    "\n",
    "    return index\n",
    "\n",
    "index = invert_index(docs)\n",
    "index"
   ]
  },
  {
   "cell_type": "code",
   "execution_count": 23,
   "metadata": {},
   "outputs": [
    {
     "data": {
      "text/plain": [
       "['cars move fast']"
      ]
     },
     "execution_count": 23,
     "metadata": {},
     "output_type": "execute_result"
    }
   ],
   "source": [
    "def retrive_docs(query,index,docs):\n",
    "    words = query.split()\n",
    "    # print(words)\n",
    "    ret_docs = []\n",
    "    for word in words:\n",
    "        if word in index.keys():\n",
    "            for i in index[word]:\n",
    "                ret_docs.append(docs[i])\n",
    "\n",
    "    return list(set(ret_docs))\n",
    "\n",
    "retrive_docs = retrive_docs(\"what move fast\",index,docs)\n",
    "retrive_docs\n"
   ]
  },
  {
   "cell_type": "code",
   "execution_count": null,
   "metadata": {},
   "outputs": [],
   "source": []
  }
 ],
 "metadata": {
  "kernelspec": {
   "display_name": "Python 3",
   "language": "python",
   "name": "python3"
  },
  "language_info": {
   "codemirror_mode": {
    "name": "ipython",
    "version": 3
   },
   "file_extension": ".py",
   "mimetype": "text/x-python",
   "name": "python",
   "nbconvert_exporter": "python",
   "pygments_lexer": "ipython3",
   "version": "3.11.2"
  }
 },
 "nbformat": 4,
 "nbformat_minor": 2
}
